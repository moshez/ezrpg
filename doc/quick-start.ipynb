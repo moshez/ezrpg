{
 "cells": [
  {
   "cell_type": "markdown",
   "id": "ebcd4a72-1b49-40ea-9b35-c875a6b05757",
   "metadata": {
    "tags": []
   },
   "source": [
    "# The EZ-RPG Support System\n",
    "\n",
    "The\n",
    "EZ-RPG\n",
    "aims to be a\n",
    "*RPG-system neutral*\n",
    "helper for\n",
    "both\n",
    "*Game Masters*\n",
    "and\n",
    "*Players*.\n",
    "\n",
    "EZ-RPG mostly focuses on\n",
    "*keeping immutable data about characters*\n",
    "(think\n",
    "\"strength\"\n",
    "not\n",
    "\"hit points\")\n",
    "and rolling dice baed on the data.\n",
    "It is especially useful when using a friendly Python console.\n",
    "\n",
    "There are many consoles:\n",
    "`ptpython`\n",
    "and\n",
    "`bpython`,\n",
    "among others.\n",
    "One of the most popular ones is Jupyter Notebook,\n",
    "which will be used in these examples.\n"
   ]
  },
  {
   "cell_type": "markdown",
   "id": "a712cdc2-f228-4876-95fe-a612332dc088",
   "metadata": {},
   "source": [
    "## Setup\n",
    "\n",
    "The first step is to import the relevant modules:"
   ]
  },
  {
   "cell_type": "code",
   "execution_count": 1,
   "id": "61861f41-5336-43e8-a384-302974b6c5e3",
   "metadata": {},
   "outputs": [],
   "source": [
    "import logging\n",
    "import functools\n",
    "import random"
   ]
  },
  {
   "cell_type": "code",
   "execution_count": 2,
   "id": "d5e17d8b-db43-4fcc-85b3-dce1813a7ade",
   "metadata": {},
   "outputs": [],
   "source": [
    "from ezrpg import character, sheet"
   ]
  },
  {
   "cell_type": "markdown",
   "id": "af6cef8f-7dc5-469f-908a-1d78c22d286c",
   "metadata": {},
   "source": [
    "After that,\n",
    "it is highly useful to set two global things:\n",
    "\n",
    "* A function that will create characters from\n",
    "  TOML\n",
    "  character sheets.\n",
    "* Logging at the\n",
    "  `INFO`\n",
    "  level."
   ]
  },
  {
   "cell_type": "code",
   "execution_count": 3,
   "id": "04e79a1d-edd9-4b79-8264-3dde87cf8e00",
   "metadata": {},
   "outputs": [],
   "source": [
    "from_toml = functools.partial(\n",
    "    sheet.from_toml,\n",
    "    character.dice_maker(random.Random()),\n",
    ")\n",
    "logging.basicConfig(level=logging.INFO)"
   ]
  },
  {
   "cell_type": "markdown",
   "id": "03609b1d-1819-403f-ab66-23485c3f3f06",
   "metadata": {},
   "source": [
    "## Setting up characters\n",
    "\n",
    "Often,\n",
    "your character data will be in a TOML\n",
    "in a separate file\n",
    "(or maybe even a database,\n",
    "for sophisticated use-cases!)\n",
    "For ease of explanation,\n",
    "here,\n",
    "it will be embedded online.\n",
    "\n",
    "As the example,\n",
    "we use a character built using the\n",
    "[Fate](https://www.faterpg.com/)\n",
    "system.\n",
    "This helps make sure this docmentation\n",
    "does not run afoul of licensing issues.\n",
    "\n",
    "The character has a\n",
    "\"Lore\"\n",
    "*skill*\n",
    "and an\n",
    "\"Arcane Lore\"\n",
    "*stunt*.\n",
    "The stunt gives a bonus to\n",
    "Lore\n",
    "skill use which pertain to the Arcane."
   ]
  },
  {
   "cell_type": "code",
   "execution_count": 7,
   "id": "a3863905-358c-48ef-8c9e-e6098056a4a4",
   "metadata": {},
   "outputs": [],
   "source": [
    "my_character = from_toml(\"\"\"\n",
    "[general]\n",
    "name = \"Example Character\"\n",
    "Arcane_Lore = 2\n",
    "\n",
    "[moves]\n",
    "lore = {}\n",
    "lore_arcane = {}\n",
    "\n",
    "[moves.default]\n",
    "roll=\"4d3\"\n",
    "succeed=\">-1\"\n",
    "effect=1\n",
    "\n",
    "[[moves.default.adjustments]]\n",
    "constant = -8\n",
    "\n",
    "[[moves.default.bonus_effect]]\n",
    "level = 1\n",
    "value = 2\n",
    "\n",
    "[[moves.default.bonus_effect]]\n",
    "level = 3\n",
    "value = 3\n",
    "\n",
    "[[moves.lore_arcane.adjustments]]\n",
    "trait = \"Arcane_Lore\"\n",
    "\"\"\")"
   ]
  },
  {
   "cell_type": "markdown",
   "id": "af8d030d-5902-48ee-ac4f-832d2bfacb64",
   "metadata": {},
   "source": [
    "There is a lot to unpack here!\n",
    "First, the part that helps specify the\n",
    "\"Fate\"\n",
    "skill system:\n",
    "you roll 4 3-sided dice and add them.\n",
    "\n",
    "However,\n",
    "the dice have\n",
    "`+1`/`-1`/`-0`\n",
    "faces\n",
    "instead of\n",
    "`1/2/3`\n",
    "faces.\n",
    "Note that subtracting\n",
    "`2`\n",
    "from a die gives equivalent result.\n",
    "Subtracting\n",
    "`2 * 4 = 8`\n",
    "from the sum achieves the original goal.\n",
    "\n",
    "In the Fate system,\n",
    "rolling a negative number is failing\n",
    "(the effect size will be \"0\").\n",
    "Just making it means a \"tie\"\n",
    "(effect size of 1),\n",
    "making it by 1 or 2 is\n",
    "\"success\"\n",
    "and 3 or more is\n",
    "\"spectacular success\".\n",
    "\n",
    "This helps explain\n",
    "\n",
    "```toml\n",
    "[moves.default]\n",
    "roll=\"4d3\"\n",
    "succeed=\">-1\"\n",
    "effect=1\n",
    "\n",
    "[[moves.default.adjustments]]\n",
    "constant = -8\n",
    "\n",
    "[[moves.default.bonus_effect]]\n",
    "level = 1\n",
    "value = 2\n",
    "\n",
    "[[moves.default.bonus_effect]]\n",
    "level = 3\n",
    "value = 3\n",
    "```\n",
    "\n",
    "This shows how to use different\n",
    "RPGs\n",
    "with the\n",
    "EZ-RPG games.\n",
    "Note that in general,\n",
    "effect sizes can also be random\n",
    "(e.g.,\n",
    "`3d6+5`)."
   ]
  },
  {
   "cell_type": "markdown",
   "id": "db7aa004-888c-4387-8c70-e9ae33c5caa1",
   "metadata": {},
   "source": [
    "The rest of the sheet is the specific character itself:\n",
    "\n",
    "```toml\n",
    "[general]\n",
    "name = \"Example Character\"\n",
    "Arcane_Lore = 2\n",
    "\n",
    "[moves]\n",
    "lore = {}\n",
    "lore_arcane = {}\n",
    "\n",
    "[[moves.lore_arcane.adjustments]]\n",
    "trait = \"Arcane_Lore\"\n",
    "```"
   ]
  },
  {
   "cell_type": "markdown",
   "id": "75af45d9-c98e-4b9c-9739-3040fa1aecfd",
   "metadata": {},
   "source": [
    "The\n",
    "`Arcane_Lore`\n",
    "represents the stunt,\n",
    "while the two\n",
    "\"moves\"\n",
    "represent using the\n",
    "Lore\n",
    "skill\n",
    "and using it\n",
    "for Arcane purposes.\n",
    "The Arcane one gets an\n",
    "*adjustment*\n",
    "based on the\n",
    "`Arcane_Lore`\n",
    "stunt."
   ]
  },
  {
   "cell_type": "markdown",
   "id": "4a6c539d-01c2-452e-b9fe-866f74aa95e2",
   "metadata": {
    "tags": []
   },
   "source": [
    "## Looking at characters\n",
    "\n",
    "The default presentation of characters shows traits and moves,\n",
    "without the rules.\n",
    "This is designed for\n",
    "*role*\n",
    "playing,\n",
    "not\n",
    "*roll*\n",
    "playing:\n",
    "checking up on the character:"
   ]
  },
  {
   "cell_type": "code",
   "execution_count": 12,
   "id": "869a1f66-8a32-4854-8ce9-499ebc0ded00",
   "metadata": {},
   "outputs": [
    {
     "data": {
      "text/html": [
       "<table><tr><td>Example Character<td><tr><tr><td>Arcane_Lore</td><td>2</td><tr><tr><td>lore</td><td></td><tr><tr><td>lore_arcane</td><td></td><tr></tr><table>"
      ],
      "text/plain": [
       "Character(name='Example Character', notes={}, _moves=MoveCollection(moves={'lore': Move(name='lore', threshold=Threshold(threshold_dice=_Dice(num=4, value=3, _random=<random.Random object at 0xaaaaed7ca230>, constant=0), effect=True, no_effect=0, bonus_effect={1: 2, 3: 3}, maximum=None, minimum=-1), description='', adjustments=[ConstantAdjustment(constant=-8)], effect_adjustments=[]), 'lore_arcane': Move(name='lore_arcane', threshold=Threshold(threshold_dice=_Dice(num=4, value=3, _random=<random.Random object at 0xaaaaed7ca230>, constant=0), effect=True, no_effect=0, bonus_effect={1: 2, 3: 3}, maximum=None, minimum=-1), description='', adjustments=[Adjustment(trait='Arcane_Lore', factor=1, constant=0)], effect_adjustments=[])}), traits={'Arcane_Lore': 2})"
      ]
     },
     "execution_count": 12,
     "metadata": {},
     "output_type": "execute_result"
    }
   ],
   "source": [
    "my_character"
   ]
  },
  {
   "cell_type": "markdown",
   "id": "606a7c30-b6a7-4fcc-bdf4-8cb32fc32ed1",
   "metadata": {},
   "source": [
    "## Using moves\n",
    "\n",
    "Using the\n",
    "\"moves\"\n",
    "(skills, attacks, even passive defenses)\n",
    "is the dice-rolling assistance.\n",
    "As a helper,\n",
    "encode the Fate\n",
    "dice-rolling rules:"
   ]
  },
  {
   "cell_type": "code",
   "execution_count": 11,
   "id": "a6a3d314-f22e-4669-ab0e-ea552dc205d6",
   "metadata": {},
   "outputs": [],
   "source": [
    "FATE_LADDER = {\n",
    "    0: \"Fail\",\n",
    "    1: \"Tie\",\n",
    "    2: \"Succeed\",\n",
    "    3: \"Succeed spectacularly\",\n",
    "}"
   ]
  },
  {
   "cell_type": "markdown",
   "id": "b12b39b5-7a63-406c-9303-e7905642f4e8",
   "metadata": {},
   "source": [
    "Now,\n",
    "the character can use the\n",
    "Lore\n",
    "skill on a mediocre target:"
   ]
  },
  {
   "cell_type": "code",
   "execution_count": 13,
   "id": "6a4ebea4-353d-4f34-98bc-27a346d85881",
   "metadata": {},
   "outputs": [
    {
     "name": "stderr",
     "output_type": "stream",
     "text": [
      "INFO:ezrpg.character:Adjusted threshold: Threshold(threshold_dice=_Dice(num=4, value=3, _random=<random.Random object at 0xaaaaed7ca230>, constant=0), effect=True, no_effect=0, bonus_effect={1: 2, 3: 3}, maximum=None, minimum=7)\n",
      "INFO:ezrpg.character:Rolled _Dice(num=4, value=3, _random=<random.Random object at 0xaaaaed7ca230>, constant=0), got 8\n",
      "INFO:ezrpg.character:Succeeded by 1\n"
     ]
    },
    {
     "data": {
      "text/plain": [
       "'Succeed'"
      ]
     },
     "execution_count": 13,
     "metadata": {},
     "output_type": "execute_result"
    }
   ],
   "source": [
    "FATE_LADDER[int(my_character.moves.lore)]"
   ]
  },
  {
   "cell_type": "markdown",
   "id": "277e068f-0269-4cdf-81c3-223eeaf1aa04",
   "metadata": {},
   "source": [
    "Note that the result is the\n",
    "\"result\",\n",
    "but the details about rolling and numbers are logged.\n",
    "This is why enabling\n",
    "`INFO`\n",
    "logging\n",
    "is useful:\n",
    "these details can be useful for crits and edge-cases."
   ]
  }
 ],
 "metadata": {
  "kernelspec": {
   "display_name": "ezrpg",
   "language": "python",
   "name": "ezrpg-venv"
  },
  "language_info": {
   "codemirror_mode": {
    "name": "ipython",
    "version": 3
   },
   "file_extension": ".py",
   "mimetype": "text/x-python",
   "name": "python",
   "nbconvert_exporter": "python",
   "pygments_lexer": "ipython3",
   "version": "3.10.5"
  }
 },
 "nbformat": 4,
 "nbformat_minor": 5
}
